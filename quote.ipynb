{
 "cells": [
  {
   "cell_type": "code",
   "execution_count": 1,
   "id": "7ff1f9ba",
   "metadata": {},
   "outputs": [
    {
     "name": "stdout",
     "output_type": "stream",
     "text": [
      "An error occurred: Expecting value: line 1 column 1 (char 0)\n"
     ]
    }
   ],
   "source": [
    "import requests\n",
    "\n",
    "def fetch_random_quote():\n",
    "    api_url = \"https://forismatic.com/en/api/\"\n",
    "    params = {\n",
    "        \"method\": \"getQuote\",\n",
    "        \"format\": \"json\",\n",
    "        \"lang\": \"en\"\n",
    "    }\n",
    "    \n",
    "    try:\n",
    "        response = requests.get(api_url, params=params)\n",
    "        if response.status_code == 200:\n",
    "            data = response.json()\n",
    "            quote = data['quoteText']\n",
    "            author = data['quoteAuthor'] if data['quoteAuthor'] else \"Unknown\"\n",
    "            print(f'\"{quote}\" - {author}')\n",
    "        else:\n",
    "            print(\"Failed to fetch quote, please try again.\")\n",
    "    except Exception as e:\n",
    "        print(f\"An error occurred: {e}\")\n",
    "\n",
    "fetch_random_quote()\n"
   ]
  },
  {
   "cell_type": "code",
   "execution_count": null,
   "id": "d7a84c0c",
   "metadata": {},
   "outputs": [],
   "source": []
  }
 ],
 "metadata": {
  "kernelspec": {
   "display_name": "Python 3 (ipykernel)",
   "language": "python",
   "name": "python3"
  },
  "language_info": {
   "codemirror_mode": {
    "name": "ipython",
    "version": 3
   },
   "file_extension": ".py",
   "mimetype": "text/x-python",
   "name": "python",
   "nbconvert_exporter": "python",
   "pygments_lexer": "ipython3",
   "version": "3.11.4"
  }
 },
 "nbformat": 4,
 "nbformat_minor": 5
}
