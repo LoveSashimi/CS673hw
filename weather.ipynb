{
 "cells": [
  {
   "cell_type": "code",
   "execution_count": 3,
   "id": "0cf25972",
   "metadata": {},
   "outputs": [
    {
     "name": "stdout",
     "output_type": "stream",
     "text": [
      "Error fetching data from OpenWeatherMap API.\n"
     ]
    }
   ],
   "source": [
    "import requests\n",
    "\n",
    "def get_weather(api_key, location, is_zip_code=False):\n",
    "    base_url = \"https://openweathermap.org/api\"\n",
    "    \n",
    "    if is_zip_code:\n",
    "        query = f\"zip={location}\"\n",
    "    else:\n",
    "        query = f\"q={location}\"\n",
    "        \n",
    "    full_url = f\"{base_url}{query}&appid={api_key}&units=metric\"\n",
    "    \n",
    "    response = requests.get(full_url)\n",
    "    \n",
    "    if response.status_code == 200:\n",
    "        data = response.json()\n",
    "        temp = data['main']['temp']\n",
    "        feels_like = data['main']['feels_like']\n",
    "        weather_desc = data['weather'][0]['description']\n",
    "        print(f\"Location: {location}\")\n",
    "        print(f\"Temperature: {temp}°C, Feels like: {feels_like}°C\")\n",
    "        print(f\"Weather: {weather_desc}\")\n",
    "    else:\n",
    "        print(\"Error fetching data from OpenWeatherMap API.\")\n",
    "\n",
    "api_key = \"YOUR_API_KEY\"\n",
    "location = \"London\" \n",
    "get_weather(api_key, location)\n"
   ]
  },
  {
   "cell_type": "code",
   "execution_count": null,
   "id": "161b9ff3",
   "metadata": {},
   "outputs": [],
   "source": []
  },
  {
   "cell_type": "code",
   "execution_count": null,
   "id": "c2aba631",
   "metadata": {},
   "outputs": [],
   "source": []
  },
  {
   "cell_type": "code",
   "execution_count": null,
   "id": "2395f463",
   "metadata": {},
   "outputs": [],
   "source": []
  }
 ],
 "metadata": {
  "kernelspec": {
   "display_name": "Python 3 (ipykernel)",
   "language": "python",
   "name": "python3"
  },
  "language_info": {
   "codemirror_mode": {
    "name": "ipython",
    "version": 3
   },
   "file_extension": ".py",
   "mimetype": "text/x-python",
   "name": "python",
   "nbconvert_exporter": "python",
   "pygments_lexer": "ipython3",
   "version": "3.11.4"
  }
 },
 "nbformat": 4,
 "nbformat_minor": 5
}
